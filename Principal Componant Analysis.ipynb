{
 "cells": [
  {
   "cell_type": "code",
   "execution_count": 1,
   "id": "969db00b",
   "metadata": {},
   "outputs": [],
   "source": [
    "# PCA: Principal Componant Analysis\n",
    "# It is a dimension reduction technique"
   ]
  },
  {
   "cell_type": "code",
   "execution_count": 2,
   "id": "d8c24ce1",
   "metadata": {},
   "outputs": [
    {
     "data": {
      "text/plain": [
       "(150, 4)"
      ]
     },
     "execution_count": 2,
     "metadata": {},
     "output_type": "execute_result"
    }
   ],
   "source": [
    "#we need some data first\n",
    "from sklearn.datasets import load_iris\n",
    "import numpy as np\n",
    "import pandas as df\n",
    "iris  = load_iris()\n",
    "x = iris.data\n",
    "y = iris.target\n",
    "\n",
    "x.shape"
   ]
  },
  {
   "cell_type": "markdown",
   "id": "4d061469",
   "metadata": {},
   "source": [
    "- **Step 1: Standardization of data**"
   ]
  },
  {
   "cell_type": "markdown",
   "id": "349b8146",
   "metadata": {},
   "source": [
    "Before proceeding with PCA, we need to perform the standardization of the data.\n",
    "\n",
    "Performing standardization is a crucial step because the original variables may have different scales. We need to bring them to a similar range to get reasonable covariance analysis."
   ]
  },
  {
   "cell_type": "code",
   "execution_count": 3,
   "id": "bc817242",
   "metadata": {},
   "outputs": [],
   "source": [
    "from sklearn.preprocessing import StandardScaler"
   ]
  },
  {
   "cell_type": "code",
   "execution_count": 4,
   "id": "c215d37a",
   "metadata": {},
   "outputs": [],
   "source": [
    "std = StandardScaler()\n",
    "x_new = std.fit_transform(x)\n",
    "#x_new"
   ]
  },
  {
   "cell_type": "markdown",
   "id": "727d13ee",
   "metadata": {},
   "source": [
    "- **Step 2: Computing covariance matrix with standardized data**"
   ]
  },
  {
   "cell_type": "markdown",
   "id": "cd5c8f10",
   "metadata": {},
   "source": [
    "The covariance matrix represents the correlation between two variables. This helps us to understand which two variables are highly correlated on each other"
   ]
  },
  {
   "cell_type": "code",
   "execution_count": 5,
   "id": "f273bdd1",
   "metadata": {},
   "outputs": [
    {
     "data": {
      "text/plain": [
       "array([[ 1.00671141, -0.11835884,  0.87760447,  0.82343066],\n",
       "       [-0.11835884,  1.00671141, -0.43131554, -0.36858315],\n",
       "       [ 0.87760447, -0.43131554,  1.00671141,  0.96932762],\n",
       "       [ 0.82343066, -0.36858315,  0.96932762,  1.00671141]])"
      ]
     },
     "execution_count": 5,
     "metadata": {},
     "output_type": "execute_result"
    }
   ],
   "source": [
    "cov_mat=np.cov(x_new.T)\n",
    "cov_mat"
   ]
  },
  {
   "cell_type": "markdown",
   "id": "e8e4fbcb",
   "metadata": {},
   "source": [
    "- **Step 3: Calculating Eigenvectors and Eigenvalues on the covariance matrix**"
   ]
  },
  {
   "cell_type": "markdown",
   "id": "36c61920",
   "metadata": {},
   "source": [
    "The eigenvectors (principal components) represents the directions of the new feature space and the eigenvalues explain the variance of the data along the direction.\n",
    "\n",
    "Each Eigenvector will have a corresponding Eigenvalue and the sum of all the Eigenvalues represents the overall variance in the entire dataset. It is very important to compute the Eigenvalues because it explains where the maximum variance lies in the dataset."
   ]
  },
  {
   "cell_type": "code",
   "execution_count": 6,
   "id": "7c306972",
   "metadata": {},
   "outputs": [
    {
     "name": "stdout",
     "output_type": "stream",
     "text": [
      "Eigenvectors:\n",
      " [[ 0.52106591 -0.37741762 -0.71956635  0.26128628]\n",
      " [-0.26934744 -0.92329566  0.24438178 -0.12350962]\n",
      " [ 0.5804131  -0.02449161  0.14212637 -0.80144925]\n",
      " [ 0.56485654 -0.06694199  0.63427274  0.52359713]]\n",
      "\n",
      "Eigenvalues:\n",
      " [2.93808505 0.9201649  0.14774182 0.02085386]\n"
     ]
    }
   ],
   "source": [
    "eig_vals, eig_vecs = np.linalg.eig(cov_mat)\n",
    "\n",
    "print('Eigenvectors:\\n',eig_vecs)\n",
    "print('\\nEigenvalues:\\n',eig_vals)"
   ]
  },
  {
   "cell_type": "code",
   "execution_count": 7,
   "id": "f01b2eac",
   "metadata": {},
   "outputs": [
    {
     "name": "stdout",
     "output_type": "stream",
     "text": [
      "[ 0.52106591 -0.26934744  0.5804131   0.56485654] : 2.9380850501999936\n",
      "[-0.37741762 -0.92329566 -0.02449161 -0.06694199] : 0.920164904162487\n",
      "[-0.71956635  0.24438178  0.14212637  0.63427274] : 0.14774182104494776\n",
      "[ 0.26128628 -0.12350962 -0.80144925  0.52359713] : 0.02085386217646217\n"
     ]
    }
   ],
   "source": [
    "\n",
    "eig_pairs = [(np.abs(eig_vals[i]),eig_vecs[:,i])for i in range(len(eig_vals))]\n",
    "for i in eig_pairs:\n",
    "    print (i[1],':',i[0])"
   ]
  },
  {
   "cell_type": "markdown",
   "id": "44039c0b",
   "metadata": {},
   "source": [
    "- **Step 4: Selecting The Principal Components**"
   ]
  },
  {
   "cell_type": "markdown",
   "id": "d39683b8",
   "metadata": {},
   "source": [
    "The eigenvectors with the lowest eigenvalues bear the least information about the distribution of the data; those are the ones can be dropped.\n",
    "\n",
    "Before doing anything more first we want to know,how much information (variance) is holding by each of the principal components.that we can get by **explained variance** which can be calculated from the eigenvalues."
   ]
  },
  {
   "cell_type": "code",
   "execution_count": 8,
   "id": "888504db",
   "metadata": {},
   "outputs": [
    {
     "name": "stdout",
     "output_type": "stream",
     "text": [
      "[72.96244541329987, 22.850761786701774, 3.6689218892828714, 0.5178709107154775]\n"
     ]
    }
   ],
   "source": [
    "tot = sum(eig_vals)\n",
    "\n",
    "var_exp = [(i/tot)*100 for i in sorted(eig_vals,reverse=True)]\n",
    "print (var_exp)"
   ]
  },
  {
   "cell_type": "code",
   "execution_count": 9,
   "id": "4a3294db",
   "metadata": {},
   "outputs": [
    {
     "data": {
      "text/plain": [
       "95.81"
      ]
     },
     "execution_count": 9,
     "metadata": {},
     "output_type": "execute_result"
    }
   ],
   "source": [
    "72.96+22.85"
   ]
  },
  {
   "cell_type": "markdown",
   "id": "79818dad",
   "metadata": {},
   "source": [
    "**Note**\n",
    "\n",
    "- Now we can select top k eigen vectors\n",
    "\n",
    "- But the variance which corresponds to those k eigen vectors should be  enough to describe the data set."
   ]
  },
  {
   "cell_type": "markdown",
   "id": "d61ba6ce",
   "metadata": {},
   "source": [
    "- if we take first two eigen vectors we will get around 95% information"
   ]
  },
  {
   "cell_type": "markdown",
   "id": "05dd884e",
   "metadata": {},
   "source": [
    "### Now PCA using sklearn"
   ]
  },
  {
   "cell_type": "code",
   "execution_count": 10,
   "id": "cdc5c72a",
   "metadata": {},
   "outputs": [],
   "source": [
    "from sklearn.decomposition import PCA"
   ]
  },
  {
   "cell_type": "code",
   "execution_count": 11,
   "id": "ddcaed94",
   "metadata": {},
   "outputs": [],
   "source": [
    "pca = PCA(n_components=.95)\n",
    "\n",
    "## n_components:int or float\n",
    "#int:no of components \n",
    "#float:0 to 1\n",
    "#that represents how much information we want to preserve from original data"
   ]
  },
  {
   "cell_type": "code",
   "execution_count": 12,
   "id": "c1923d81",
   "metadata": {},
   "outputs": [],
   "source": [
    "pca_data = pca.fit_transform(x_new)"
   ]
  },
  {
   "cell_type": "code",
   "execution_count": 13,
   "id": "7bf31165",
   "metadata": {},
   "outputs": [],
   "source": [
    "#pca.n_components_"
   ]
  },
  {
   "cell_type": "code",
   "execution_count": 14,
   "id": "99dcf045",
   "metadata": {},
   "outputs": [
    {
     "data": {
      "text/plain": [
       "(150, 2)"
      ]
     },
     "execution_count": 14,
     "metadata": {},
     "output_type": "execute_result"
    }
   ],
   "source": [
    "pca_data.shape"
   ]
  },
  {
   "cell_type": "code",
   "execution_count": 15,
   "id": "66b0229d",
   "metadata": {},
   "outputs": [
    {
     "data": {
      "text/plain": [
       "array([0.72962445, 0.22850762])"
      ]
     },
     "execution_count": 15,
     "metadata": {},
     "output_type": "execute_result"
    }
   ],
   "source": [
    "pca.explained_variance_ratio_ ## percentage of info held by 2 Eigen vectors that were selected"
   ]
  },
  {
   "cell_type": "code",
   "execution_count": 16,
   "id": "424fcfe3",
   "metadata": {},
   "outputs": [
    {
     "data": {
      "text/plain": [
       "array([2.93808505, 0.9201649 ])"
      ]
     },
     "execution_count": 16,
     "metadata": {},
     "output_type": "execute_result"
    }
   ],
   "source": [
    "pca.explained_variance_ ## Eigen Values of 2 Eigen vectors selected "
   ]
  },
  {
   "cell_type": "code",
   "execution_count": 17,
   "id": "24d87f38",
   "metadata": {},
   "outputs": [
    {
     "data": {
      "text/plain": [
       "array([[ 0.52106591, -0.26934744,  0.5804131 ,  0.56485654],\n",
       "       [ 0.37741762,  0.92329566,  0.02449161,  0.06694199]])"
      ]
     },
     "execution_count": 17,
     "metadata": {},
     "output_type": "execute_result"
    }
   ],
   "source": [
    "pca.components_"
   ]
  },
  {
   "cell_type": "markdown",
   "id": "72fd2176",
   "metadata": {},
   "source": [
    "### PCA on MNIST dataset"
   ]
  },
  {
   "cell_type": "code",
   "execution_count": 18,
   "id": "3eec8a6c",
   "metadata": {},
   "outputs": [],
   "source": [
    "from sklearn.datasets import fetch_openml\n",
    "from sklearn.decomposition import PCA\n",
    "from sklearn.preprocessing import StandardScaler\n",
    "from sklearn.model_selection import train_test_split\n",
    "from sklearn.svm import SVC\n",
    "import numpy as np"
   ]
  },
  {
   "cell_type": "code",
   "execution_count": 19,
   "id": "6dcfd485",
   "metadata": {},
   "outputs": [],
   "source": [
    "mnist = fetch_openml('mnist_784')"
   ]
  },
  {
   "cell_type": "code",
   "execution_count": null,
   "id": "c789d318",
   "metadata": {},
   "outputs": [],
   "source": []
  },
  {
   "cell_type": "code",
   "execution_count": 20,
   "id": "700d0971",
   "metadata": {},
   "outputs": [],
   "source": [
    "X = mnist.data.values\n",
    "y = mnist.target.values"
   ]
  },
  {
   "cell_type": "code",
   "execution_count": 21,
   "id": "99ca230a",
   "metadata": {},
   "outputs": [
    {
     "data": {
      "text/plain": [
       "(70000, 784)"
      ]
     },
     "execution_count": 21,
     "metadata": {},
     "output_type": "execute_result"
    }
   ],
   "source": [
    "X.shape"
   ]
  },
  {
   "cell_type": "code",
   "execution_count": 22,
   "id": "68368244",
   "metadata": {},
   "outputs": [
    {
     "data": {
      "text/plain": [
       "(70000,)"
      ]
     },
     "execution_count": 22,
     "metadata": {},
     "output_type": "execute_result"
    }
   ],
   "source": [
    "y.shape"
   ]
  },
  {
   "cell_type": "code",
   "execution_count": 23,
   "id": "0096633a",
   "metadata": {},
   "outputs": [
    {
     "name": "stdout",
     "output_type": "stream",
     "text": [
      "no. of classes/labels: ['0' '1' '2' '3' '4' '5' '6' '7' '8' '9']\n"
     ]
    }
   ],
   "source": [
    "print('no. of classes/labels:',np.unique(y))"
   ]
  },
  {
   "cell_type": "code",
   "execution_count": 24,
   "id": "b56f8a3b",
   "metadata": {},
   "outputs": [],
   "source": [
    "### display no. of samples for each class/label"
   ]
  },
  {
   "cell_type": "code",
   "execution_count": 25,
   "id": "303080b0",
   "metadata": {},
   "outputs": [
    {
     "data": {
      "text/plain": [
       "array([6903, 7877, 6990, 7141, 6824, 6313, 6876, 7293, 6825, 6958],\n",
       "      dtype=int64)"
      ]
     },
     "execution_count": 25,
     "metadata": {},
     "output_type": "execute_result"
    }
   ],
   "source": [
    "np.bincount(y.astype(int))"
   ]
  },
  {
   "cell_type": "markdown",
   "id": "8c156a61",
   "metadata": {},
   "source": [
    "#### Let's take two classes only"
   ]
  },
  {
   "cell_type": "code",
   "execution_count": 26,
   "id": "052da59f",
   "metadata": {},
   "outputs": [
    {
     "data": {
      "text/plain": [
       "(14780, 784)"
      ]
     },
     "execution_count": 26,
     "metadata": {},
     "output_type": "execute_result"
    }
   ],
   "source": [
    "x_new = X[(y=='0')|(y=='1')]\n",
    "y_new = y[(y=='0')|(y=='1')]\n",
    "\n",
    "x_new.shape"
   ]
  },
  {
   "cell_type": "code",
   "execution_count": 27,
   "id": "a8064676",
   "metadata": {},
   "outputs": [
    {
     "data": {
      "text/plain": [
       "(14780,)"
      ]
     },
     "execution_count": 27,
     "metadata": {},
     "output_type": "execute_result"
    }
   ],
   "source": [
    "y_new.shape"
   ]
  },
  {
   "cell_type": "code",
   "execution_count": 28,
   "id": "3e719a89",
   "metadata": {},
   "outputs": [
    {
     "data": {
      "text/plain": [
       "array(['0', '1'], dtype=object)"
      ]
     },
     "execution_count": 28,
     "metadata": {},
     "output_type": "execute_result"
    }
   ],
   "source": [
    "np.unique(y_new)"
   ]
  },
  {
   "cell_type": "code",
   "execution_count": 29,
   "id": "cfec0b8e",
   "metadata": {},
   "outputs": [],
   "source": [
    "xtrain,xtest,ytrain,ytest = train_test_split(x_new,y_new,test_size=.2,random_state=10)"
   ]
  },
  {
   "cell_type": "code",
   "execution_count": 30,
   "id": "3240e97b",
   "metadata": {},
   "outputs": [
    {
     "data": {
      "text/plain": [
       "(11824, 784)"
      ]
     },
     "execution_count": 30,
     "metadata": {},
     "output_type": "execute_result"
    }
   ],
   "source": [
    "xtrain.shape"
   ]
  },
  {
   "cell_type": "code",
   "execution_count": 31,
   "id": "958c340f",
   "metadata": {},
   "outputs": [
    {
     "data": {
      "text/plain": [
       "(2956, 784)"
      ]
     },
     "execution_count": 31,
     "metadata": {},
     "output_type": "execute_result"
    }
   ],
   "source": [
    "xtest.shape"
   ]
  },
  {
   "cell_type": "code",
   "execution_count": 32,
   "id": "cc8a0642",
   "metadata": {},
   "outputs": [
    {
     "data": {
      "text/plain": [
       "255.0"
      ]
     },
     "execution_count": 32,
     "metadata": {},
     "output_type": "execute_result"
    }
   ],
   "source": [
    "xtrain.max()"
   ]
  },
  {
   "cell_type": "code",
   "execution_count": 33,
   "id": "cdf7eb55",
   "metadata": {},
   "outputs": [
    {
     "data": {
      "text/plain": [
       "0.0"
      ]
     },
     "execution_count": 33,
     "metadata": {},
     "output_type": "execute_result"
    }
   ],
   "source": [
    "xtrain.min()"
   ]
  },
  {
   "cell_type": "code",
   "execution_count": 34,
   "id": "d8bb2268",
   "metadata": {},
   "outputs": [],
   "source": [
    "std_train = xtrain/255.0\n",
    "std_test = xtest/255.0"
   ]
  },
  {
   "cell_type": "code",
   "execution_count": 35,
   "id": "f72e5fa3",
   "metadata": {},
   "outputs": [],
   "source": [
    "### PCA"
   ]
  },
  {
   "cell_type": "code",
   "execution_count": 36,
   "id": "cc2995f9",
   "metadata": {},
   "outputs": [],
   "source": [
    "pca = PCA(n_components=.95)"
   ]
  },
  {
   "cell_type": "code",
   "execution_count": 37,
   "id": "a0371336",
   "metadata": {},
   "outputs": [],
   "source": [
    "pca_train = pca.fit_transform(std_train)\n",
    "\n",
    "pca_test = pca.transform(std_test)"
   ]
  },
  {
   "cell_type": "code",
   "execution_count": 38,
   "id": "4197bbea",
   "metadata": {},
   "outputs": [
    {
     "data": {
      "text/plain": [
       "(11824, 97)"
      ]
     },
     "execution_count": 38,
     "metadata": {},
     "output_type": "execute_result"
    }
   ],
   "source": [
    "pca_train.shape"
   ]
  },
  {
   "cell_type": "code",
   "execution_count": 39,
   "id": "966c3727",
   "metadata": {},
   "outputs": [
    {
     "data": {
      "text/plain": [
       "(2956, 97)"
      ]
     },
     "execution_count": 39,
     "metadata": {},
     "output_type": "execute_result"
    }
   ],
   "source": [
    "pca_test.shape"
   ]
  },
  {
   "cell_type": "code",
   "execution_count": 40,
   "id": "a91ef5cb",
   "metadata": {},
   "outputs": [],
   "source": [
    "clf = SVC(kernel='linear')"
   ]
  },
  {
   "cell_type": "code",
   "execution_count": 41,
   "id": "e2b962dd",
   "metadata": {},
   "outputs": [
    {
     "name": "stdout",
     "output_type": "stream",
     "text": [
      "1.0 , 0.9989851150202977\n"
     ]
    }
   ],
   "source": [
    "clf.fit(pca_train,ytrain)\n",
    "\n",
    "test_score = clf.score(pca_test,ytest)\n",
    "\n",
    "train_score = clf.score(pca_train,ytrain)\n",
    "\n",
    "print(train_score,',',test_score)"
   ]
  },
  {
   "cell_type": "code",
   "execution_count": null,
   "id": "e4123730",
   "metadata": {},
   "outputs": [],
   "source": []
  }
 ],
 "metadata": {
  "kernelspec": {
   "display_name": "Python 3 (ipykernel)",
   "language": "python",
   "name": "python3"
  },
  "language_info": {
   "codemirror_mode": {
    "name": "ipython",
    "version": 3
   },
   "file_extension": ".py",
   "mimetype": "text/x-python",
   "name": "python",
   "nbconvert_exporter": "python",
   "pygments_lexer": "ipython3",
   "version": "3.9.7"
  }
 },
 "nbformat": 4,
 "nbformat_minor": 5
}
